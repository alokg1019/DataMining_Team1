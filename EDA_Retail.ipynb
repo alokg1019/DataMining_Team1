{
 "cells": [
  {
   "cell_type": "markdown",
   "metadata": {
    "colab_type": "text",
    "id": "F38QjWjdx4zX"
   },
   "source": [
    "### EDA Content: \n",
    "- What are the top 10 Product categories based on sales?\n",
    "- Who are the most valuable customers?\n",
    "- In each country , which product is sold the most?\n",
    "- Sales were highest on which day?\n",
    "- Sales trend in the countries over time\n",
    "- Top 5 Most common countries\n",
    "- Top 5 Least common countries"
   ]
  },
  {
   "cell_type": "code",
   "execution_count": 0,
   "metadata": {
    "colab": {},
    "colab_type": "code",
    "id": "v3R8PcEAx4zb"
   },
   "outputs": [],
   "source": [
    "#Importing necessary libraries\n",
    "import pandas as pd\n",
    "import numpy as np\n",
    "import os \n",
    "import seaborn as sns\n",
    "import matplotlib.pyplot as plt\n",
    "import missingno as msno\n",
    "sns.set()"
   ]
  },
  {
   "cell_type": "code",
   "execution_count": 0,
   "metadata": {
    "colab": {},
    "colab_type": "code",
    "id": "4EmKJ09gx4zq"
   },
   "outputs": [],
   "source": [
    "retaildata = pd.read_excel(\"/content/online_retail_II.xlsx\")"
   ]
  },
  {
   "cell_type": "code",
   "execution_count": 42,
   "metadata": {
    "colab": {
     "base_uri": "https://localhost:8080/",
     "height": 204
    },
    "colab_type": "code",
    "executionInfo": {
     "elapsed": 61643,
     "status": "ok",
     "timestamp": 1588551785887,
     "user": {
      "displayName": "Shalabh Neema",
      "photoUrl": "",
      "userId": "09767217883614479239"
     },
     "user_tz": 420
    },
    "id": "PTis8bKUx4z5",
    "outputId": "d8a23429-0908-4862-f58f-7b5ae5508c1f"
   },
   "outputs": [
    {
     "data": {
      "text/html": [
       "<div>\n",
       "<style scoped>\n",
       "    .dataframe tbody tr th:only-of-type {\n",
       "        vertical-align: middle;\n",
       "    }\n",
       "\n",
       "    .dataframe tbody tr th {\n",
       "        vertical-align: top;\n",
       "    }\n",
       "\n",
       "    .dataframe thead th {\n",
       "        text-align: right;\n",
       "    }\n",
       "</style>\n",
       "<table border=\"1\" class=\"dataframe\">\n",
       "  <thead>\n",
       "    <tr style=\"text-align: right;\">\n",
       "      <th></th>\n",
       "      <th>Invoice</th>\n",
       "      <th>StockCode</th>\n",
       "      <th>Description</th>\n",
       "      <th>Quantity</th>\n",
       "      <th>InvoiceDate</th>\n",
       "      <th>Price</th>\n",
       "      <th>Customer ID</th>\n",
       "      <th>Country</th>\n",
       "    </tr>\n",
       "  </thead>\n",
       "  <tbody>\n",
       "    <tr>\n",
       "      <th>0</th>\n",
       "      <td>489434</td>\n",
       "      <td>85048</td>\n",
       "      <td>15CM CHRISTMAS GLASS BALL 20 LIGHTS</td>\n",
       "      <td>12</td>\n",
       "      <td>2009-12-01 07:45:00</td>\n",
       "      <td>6.95</td>\n",
       "      <td>13085.0</td>\n",
       "      <td>United Kingdom</td>\n",
       "    </tr>\n",
       "    <tr>\n",
       "      <th>1</th>\n",
       "      <td>489434</td>\n",
       "      <td>79323P</td>\n",
       "      <td>PINK CHERRY LIGHTS</td>\n",
       "      <td>12</td>\n",
       "      <td>2009-12-01 07:45:00</td>\n",
       "      <td>6.75</td>\n",
       "      <td>13085.0</td>\n",
       "      <td>United Kingdom</td>\n",
       "    </tr>\n",
       "    <tr>\n",
       "      <th>2</th>\n",
       "      <td>489434</td>\n",
       "      <td>79323W</td>\n",
       "      <td>WHITE CHERRY LIGHTS</td>\n",
       "      <td>12</td>\n",
       "      <td>2009-12-01 07:45:00</td>\n",
       "      <td>6.75</td>\n",
       "      <td>13085.0</td>\n",
       "      <td>United Kingdom</td>\n",
       "    </tr>\n",
       "    <tr>\n",
       "      <th>3</th>\n",
       "      <td>489434</td>\n",
       "      <td>22041</td>\n",
       "      <td>RECORD FRAME 7\" SINGLE SIZE</td>\n",
       "      <td>48</td>\n",
       "      <td>2009-12-01 07:45:00</td>\n",
       "      <td>2.10</td>\n",
       "      <td>13085.0</td>\n",
       "      <td>United Kingdom</td>\n",
       "    </tr>\n",
       "    <tr>\n",
       "      <th>4</th>\n",
       "      <td>489434</td>\n",
       "      <td>21232</td>\n",
       "      <td>STRAWBERRY CERAMIC TRINKET BOX</td>\n",
       "      <td>24</td>\n",
       "      <td>2009-12-01 07:45:00</td>\n",
       "      <td>1.25</td>\n",
       "      <td>13085.0</td>\n",
       "      <td>United Kingdom</td>\n",
       "    </tr>\n",
       "  </tbody>\n",
       "</table>\n",
       "</div>"
      ],
      "text/plain": [
       "  Invoice StockCode  ... Customer ID         Country\n",
       "0  489434     85048  ...     13085.0  United Kingdom\n",
       "1  489434    79323P  ...     13085.0  United Kingdom\n",
       "2  489434    79323W  ...     13085.0  United Kingdom\n",
       "3  489434     22041  ...     13085.0  United Kingdom\n",
       "4  489434     21232  ...     13085.0  United Kingdom\n",
       "\n",
       "[5 rows x 8 columns]"
      ]
     },
     "execution_count": 42,
     "metadata": {
      "tags": []
     },
     "output_type": "execute_result"
    }
   ],
   "source": [
    "retaildata.head()"
   ]
  },
  {
   "cell_type": "code",
   "execution_count": 43,
   "metadata": {
    "colab": {
     "base_uri": "https://localhost:8080/",
     "height": 297
    },
    "colab_type": "code",
    "executionInfo": {
     "elapsed": 1071,
     "status": "ok",
     "timestamp": 1588552029904,
     "user": {
      "displayName": "Shalabh Neema",
      "photoUrl": "",
      "userId": "09767217883614479239"
     },
     "user_tz": 420
    },
    "id": "8YBqRc-Jx40G",
    "outputId": "ce027bbf-0268-46b2-9cfe-f14c3e1ed282"
   },
   "outputs": [
    {
     "data": {
      "text/html": [
       "<div>\n",
       "<style scoped>\n",
       "    .dataframe tbody tr th:only-of-type {\n",
       "        vertical-align: middle;\n",
       "    }\n",
       "\n",
       "    .dataframe tbody tr th {\n",
       "        vertical-align: top;\n",
       "    }\n",
       "\n",
       "    .dataframe thead th {\n",
       "        text-align: right;\n",
       "    }\n",
       "</style>\n",
       "<table border=\"1\" class=\"dataframe\">\n",
       "  <thead>\n",
       "    <tr style=\"text-align: right;\">\n",
       "      <th></th>\n",
       "      <th>Quantity</th>\n",
       "      <th>Price</th>\n",
       "      <th>Customer ID</th>\n",
       "    </tr>\n",
       "  </thead>\n",
       "  <tbody>\n",
       "    <tr>\n",
       "      <th>count</th>\n",
       "      <td>525461.000000</td>\n",
       "      <td>525461.000000</td>\n",
       "      <td>417534.000000</td>\n",
       "    </tr>\n",
       "    <tr>\n",
       "      <th>mean</th>\n",
       "      <td>10.337667</td>\n",
       "      <td>4.688834</td>\n",
       "      <td>15360.645478</td>\n",
       "    </tr>\n",
       "    <tr>\n",
       "      <th>std</th>\n",
       "      <td>107.424110</td>\n",
       "      <td>146.126914</td>\n",
       "      <td>1680.811316</td>\n",
       "    </tr>\n",
       "    <tr>\n",
       "      <th>min</th>\n",
       "      <td>-9600.000000</td>\n",
       "      <td>-53594.360000</td>\n",
       "      <td>12346.000000</td>\n",
       "    </tr>\n",
       "    <tr>\n",
       "      <th>25%</th>\n",
       "      <td>1.000000</td>\n",
       "      <td>1.250000</td>\n",
       "      <td>13983.000000</td>\n",
       "    </tr>\n",
       "    <tr>\n",
       "      <th>50%</th>\n",
       "      <td>3.000000</td>\n",
       "      <td>2.100000</td>\n",
       "      <td>15311.000000</td>\n",
       "    </tr>\n",
       "    <tr>\n",
       "      <th>75%</th>\n",
       "      <td>10.000000</td>\n",
       "      <td>4.210000</td>\n",
       "      <td>16799.000000</td>\n",
       "    </tr>\n",
       "    <tr>\n",
       "      <th>max</th>\n",
       "      <td>19152.000000</td>\n",
       "      <td>25111.090000</td>\n",
       "      <td>18287.000000</td>\n",
       "    </tr>\n",
       "  </tbody>\n",
       "</table>\n",
       "</div>"
      ],
      "text/plain": [
       "            Quantity          Price    Customer ID\n",
       "count  525461.000000  525461.000000  417534.000000\n",
       "mean       10.337667       4.688834   15360.645478\n",
       "std       107.424110     146.126914    1680.811316\n",
       "min     -9600.000000  -53594.360000   12346.000000\n",
       "25%         1.000000       1.250000   13983.000000\n",
       "50%         3.000000       2.100000   15311.000000\n",
       "75%        10.000000       4.210000   16799.000000\n",
       "max     19152.000000   25111.090000   18287.000000"
      ]
     },
     "execution_count": 43,
     "metadata": {
      "tags": []
     },
     "output_type": "execute_result"
    }
   ],
   "source": [
    "retaildata.describe()"
   ]
  },
  {
   "cell_type": "code",
   "execution_count": 44,
   "metadata": {
    "colab": {
     "base_uri": "https://localhost:8080/",
     "height": 272
    },
    "colab_type": "code",
    "executionInfo": {
     "elapsed": 886,
     "status": "ok",
     "timestamp": 1588552033897,
     "user": {
      "displayName": "Shalabh Neema",
      "photoUrl": "",
      "userId": "09767217883614479239"
     },
     "user_tz": 420
    },
    "id": "jpCJjZNcx40S",
    "outputId": "199ea969-218f-4cb2-c7ed-61bf0f21b667"
   },
   "outputs": [
    {
     "name": "stdout",
     "output_type": "stream",
     "text": [
      "<class 'pandas.core.frame.DataFrame'>\n",
      "RangeIndex: 525461 entries, 0 to 525460\n",
      "Data columns (total 8 columns):\n",
      " #   Column       Non-Null Count   Dtype         \n",
      "---  ------       --------------   -----         \n",
      " 0   Invoice      525461 non-null  object        \n",
      " 1   StockCode    525461 non-null  object        \n",
      " 2   Description  522533 non-null  object        \n",
      " 3   Quantity     525461 non-null  int64         \n",
      " 4   InvoiceDate  525461 non-null  datetime64[ns]\n",
      " 5   Price        525461 non-null  float64       \n",
      " 6   Customer ID  417534 non-null  float64       \n",
      " 7   Country      525461 non-null  object        \n",
      "dtypes: datetime64[ns](1), float64(2), int64(1), object(4)\n",
      "memory usage: 32.1+ MB\n"
     ]
    }
   ],
   "source": [
    "retaildata.info()"
   ]
  },
  {
   "cell_type": "code",
   "execution_count": 8,
   "metadata": {
    "colab": {
     "base_uri": "https://localhost:8080/",
     "height": 34
    },
    "colab_type": "code",
    "executionInfo": {
     "elapsed": 883,
     "status": "ok",
     "timestamp": 1588543063244,
     "user": {
      "displayName": "Shalabh Neema",
      "photoUrl": "",
      "userId": "09767217883614479239"
     },
     "user_tz": 420
    },
    "id": "siV0ouHex40e",
    "outputId": "49fa70a8-26a5-4955-9340-8c603d130da4"
   },
   "outputs": [
    {
     "name": "stdout",
     "output_type": "stream",
     "text": [
      "Shape of dataset:  (525461, 8)\n"
     ]
    }
   ],
   "source": [
    "print('Shape of dataset: ', retaildata.shape)"
   ]
  },
  {
   "cell_type": "code",
   "execution_count": 0,
   "metadata": {
    "colab": {},
    "colab_type": "code",
    "id": "UsLAM343x40o"
   },
   "outputs": [],
   "source": [
    "def extract_column_types(df):\n",
    "    num_cols = [i for i in df.columns if df[i].dtype in ['int64','float64']]\n",
    "    cat_cols = [i for i in df.columns if df[i].dtype in ['object']]\n",
    "    date_cols = [i for i in df.columns if df[i].dtype in ['datetime64[ns]']]\n",
    "    bool_cols = [i for i in df.columns if df[i].dtype in ['bool']]\n",
    "    return(num_cols,cat_cols,date_cols,bool_cols)"
   ]
  },
  {
   "cell_type": "code",
   "execution_count": 46,
   "metadata": {
    "colab": {
     "base_uri": "https://localhost:8080/",
     "height": 85
    },
    "colab_type": "code",
    "executionInfo": {
     "elapsed": 820,
     "status": "ok",
     "timestamp": 1588552041704,
     "user": {
      "displayName": "Shalabh Neema",
      "photoUrl": "",
      "userId": "09767217883614479239"
     },
     "user_tz": 420
    },
    "id": "2loGZc9px40v",
    "outputId": "1372b6f9-e92d-4fc4-abe2-2d9b8ef4aeb3"
   },
   "outputs": [
    {
     "name": "stdout",
     "output_type": "stream",
     "text": [
      "Numeric Columns: 3\n",
      "Categorical Columns: 4\n",
      "Date Columns: 1\n",
      "Boolean Columns: 0\n"
     ]
    }
   ],
   "source": [
    "num_cols,cat_cols,date_cols,bool_cols = extract_column_types(retaildata)\n",
    "print (\"Numeric Columns:\", len(num_cols))\n",
    "print (\"Categorical Columns:\", len(cat_cols))\n",
    "print (\"Date Columns:\",len(date_cols))\n",
    "print (\"Boolean Columns:\",len(bool_cols))"
   ]
  },
  {
   "cell_type": "code",
   "execution_count": 0,
   "metadata": {
    "colab": {},
    "colab_type": "code",
    "id": "aMEep0ABx402"
   },
   "outputs": [],
   "source": [
    "#Filtering the dataset by choosing positive values of Quantity and retaildata\n",
    "filtered_retaildata = retaildata[(retaildata.Quantity>0) & (retaildata.Price > 0)]"
   ]
  },
  {
   "cell_type": "code",
   "execution_count": 48,
   "metadata": {
    "colab": {
     "base_uri": "https://localhost:8080/",
     "height": 34
    },
    "colab_type": "code",
    "executionInfo": {
     "elapsed": 904,
     "status": "ok",
     "timestamp": 1588552045965,
     "user": {
      "displayName": "Shalabh Neema",
      "photoUrl": "",
      "userId": "09767217883614479239"
     },
     "user_tz": 420
    },
    "id": "fmQjct8Fx41B",
    "outputId": "a6a271f6-055c-4f7c-c512-472764ab3d98"
   },
   "outputs": [
    {
     "name": "stdout",
     "output_type": "stream",
     "text": [
      "Shape of filtered dataset:  (511566, 8)\n"
     ]
    }
   ],
   "source": [
    "print('Shape of filtered dataset: ', filtered_retaildata.shape)"
   ]
  },
  {
   "cell_type": "markdown",
   "metadata": {
    "colab_type": "text",
    "id": "aTydCx-7x41K"
   },
   "source": [
    "#### What are the top 10 Product categories based on sales?"
   ]
  },
  {
   "cell_type": "code",
   "execution_count": 0,
   "metadata": {
    "colab": {},
    "colab_type": "code",
    "id": "O5AO6vD8x41M"
   },
   "outputs": [],
   "source": [
    "prod_bought = filtered_retaildata.groupby('Description').agg({'Quantity':np.sum}).reset_index()"
   ]
  },
  {
   "cell_type": "code",
   "execution_count": 0,
   "metadata": {
    "colab": {},
    "colab_type": "code",
    "id": "nuqkj9Xax41V"
   },
   "outputs": [],
   "source": [
    "x = prod_bought.sort_values('Quantity' , ascending=False).Description.head(10)\n",
    "y = prod_bought.sort_values('Quantity' , ascending=False).Quantity.head(10)"
   ]
  },
  {
   "cell_type": "code",
   "execution_count": 57,
   "metadata": {
    "colab": {
     "base_uri": "https://localhost:8080/",
     "height": 354
    },
    "colab_type": "code",
    "executionInfo": {
     "elapsed": 1343,
     "status": "ok",
     "timestamp": 1588552112167,
     "user": {
      "displayName": "Shalabh Neema",
      "photoUrl": "",
      "userId": "09767217883614479239"
     },
     "user_tz": 420
    },
    "id": "nRDxnIN6x41e",
    "outputId": "716c6c03-f273-46d9-c4b3-ac5033466db2"
   },
   "outputs": [
    {
     "data": {
      "image/png": "[encoded data removed]",
      "text/plain": [
       "<Figure size 432x288 with 1 Axes>"
      ]
     },
     "metadata": {
      "tags": []
     },
     "output_type": "display_data"
    }
   ],
   "source": [
    "fig = plt.figure()\n",
    "ax = fig.add_axes([0,0,1,1])\n",
    "ax.barh(x,y)\n",
    "ax.invert_yaxis()\n",
    "ax.set_title('Top 10 Product categories based on sales')\n",
    "plt.show()"
   ]
  },
  {
   "cell_type": "markdown",
   "metadata": {
    "colab_type": "text",
    "id": "tcstXJ3Qx41r"
   },
   "source": [
    "#### Product with highest sales in each country?"
   ]
  },
  {
   "cell_type": "code",
   "execution_count": 0,
   "metadata": {
    "colab": {},
    "colab_type": "code",
    "id": "6qYFRgzox41t"
   },
   "outputs": [],
   "source": [
    "country_count = retaildata.groupby(['Country','Description']).agg({'Quantity':np.sum}).reset_index()"
   ]
  },
  {
   "cell_type": "code",
   "execution_count": 0,
   "metadata": {
    "colab": {},
    "colab_type": "code",
    "id": "t_7H4v3sx411"
   },
   "outputs": [],
   "source": [
    "country_count.columns = ['Country','Description','Count']"
   ]
  },
  {
   "cell_type": "code",
   "execution_count": 60,
   "metadata": {
    "colab": {
     "base_uri": "https://localhost:8080/",
     "height": 139
    },
    "colab_type": "code",
    "executionInfo": {
     "elapsed": 976,
     "status": "ok",
     "timestamp": 1588552118069,
     "user": {
      "displayName": "Shalabh Neema",
      "photoUrl": "",
      "userId": "09767217883614479239"
     },
     "user_tz": 420
    },
    "id": "JxOwX6Aix419",
    "outputId": "246f1ef6-1dbd-4f6d-9e54-de3ff104089d"
   },
   "outputs": [
    {
     "name": "stderr",
     "output_type": "stream",
     "text": [
      "/usr/local/lib/python3.6/dist-packages/ipykernel_launcher.py:1: SettingWithCopyWarning: \n",
      "A value is trying to be set on a copy of a slice from a DataFrame.\n",
      "Try using .loc[row_indexer,col_indexer] = value instead\n",
      "\n",
      "See the caveats in the documentation: https://pandas.pydata.org/pandas-docs/stable/user_guide/indexing.html#returning-a-view-versus-a-copy\n",
      "  \"\"\"Entry point for launching an IPython kernel.\n"
     ]
    }
   ],
   "source": [
    "filtered_retaildata['Revenue'] = filtered_retaildata.Price * filtered_retaildata.Quantity"
   ]
  },
  {
   "cell_type": "code",
   "execution_count": 61,
   "metadata": {
    "colab": {
     "base_uri": "https://localhost:8080/",
     "height": 1000
    },
    "colab_type": "code",
    "executionInfo": {
     "elapsed": 3193,
     "status": "ok",
     "timestamp": 1588552122902,
     "user": {
      "displayName": "Shalabh Neema",
      "photoUrl": "",
      "userId": "09767217883614479239"
     },
     "user_tz": 420
    },
    "id": "Uq04unyyx42C",
    "outputId": "1ef1b95d-b5c4-44bf-ca16-290206761bd0",
    "scrolled": true
   },
   "outputs": [
    {
     "name": "stdout",
     "output_type": "stream",
     "text": [
      "Product with highest sales in Australia is 60 CAKE CASES DOLLY GIRL DESIGN \n",
      " The sales count (in units) is : 504 and revenue generated is 214.8 \n",
      "-----------------------------------------------------\n",
      "Product with highest sales in Austria is MINI HIGHLIGHTER PENS \n",
      " The sales count (in units) is : 120 and revenue generated is 14.4 \n",
      "-----------------------------------------------------\n",
      "Product with highest sales in Bahrain is WHITE TALL PORCELAIN T-LIGHT HOLDER \n",
      " The sales count (in units) is : 102 and revenue generated is 202.5 \n",
      "-----------------------------------------------------\n",
      "Product with highest sales in Belgium is PACK OF 60 MUSHROOM CAKE CASES \n",
      " The sales count (in units) is : 264 and revenue generated is 145.2 \n",
      "-----------------------------------------------------\n",
      "Product with highest sales in Bermuda is BOYS ALPHABET IRON ON PATCHES \n",
      " The sales count (in units) is : 1152 and revenue generated is 241.92 \n",
      "-----------------------------------------------------\n",
      "Product with highest sales in Brazil is DRAGONS BLOOD INCENSE \n",
      " The sales count (in units) is : 25 and revenue generated is 5.25 \n",
      "-----------------------------------------------------\n",
      "Product with highest sales in Canada is JAZZ HEARTS ADDRESS BOOK \n",
      " The sales count (in units) is : 24 and revenue generated is 10.08 \n",
      "-----------------------------------------------------\n",
      "Product with highest sales in Channel Islands is JUMBO BAG PINK WITH WHITE SPOTS \n",
      " The sales count (in units) is : 330 and revenue generated is 553.5 \n",
      "-----------------------------------------------------\n",
      "Product with highest sales in Cyprus is BLUE SCANDINAVIAN PAISLEY WRAP \n",
      " The sales count (in units) is : 200 and revenue generated is 68.0 \n",
      "-----------------------------------------------------\n",
      "Product with highest sales in Denmark is BLACK AND WHITE PAISLEY FLOWER MUG \n",
      " The sales count (in units) is : 25164 and revenue generated is 2516.4 \n",
      "-----------------------------------------------------\n",
      "Product with highest sales in EIRE is PACK OF 72 RETRO SPOT CAKE CASES \n",
      " The sales count (in units) is : 4080 and revenue generated is 1838.4 \n",
      "-----------------------------------------------------\n",
      "Product with highest sales in Finland is PINK 3 PIECE MINI DOTS CUTLERY SET \n",
      " The sales count (in units) is : 162 and revenue generated is 555.66 \n",
      "-----------------------------------------------------\n",
      "Product with highest sales in France is RED SPOTTY PUDDING BOWL \n",
      " The sales count (in units) is : 3690 and revenue generated is 562.44 \n",
      "-----------------------------------------------------\n",
      "Product with highest sales in Germany is WOODLAND CHARLOTTE BAG \n",
      " The sales count (in units) is : 1585 and revenue generated is 1312.5 \n",
      "-----------------------------------------------------\n",
      "Product with highest sales in Greece is WHITE HANGING HEART T-LIGHT HOLDER \n",
      " The sales count (in units) is : 160 and revenue generated is 408.0 \n",
      "-----------------------------------------------------\n",
      "Product with highest sales in Hong Kong is PLASTERS IN TIN SPACEBOY \n",
      " The sales count (in units) is : 108 and revenue generated is 159.0 \n",
      "-----------------------------------------------------\n",
      "Product with highest sales in Iceland is MINI PAINT SET VINTAGE  \n",
      " The sales count (in units) is : 36 and revenue generated is 23.4 \n",
      "-----------------------------------------------------\n",
      "Product with highest sales in Israel is LOVEBIRD HANGING DECORATION WHITE  \n",
      " The sales count (in units) is : 36 and revenue generated is 30.6 \n",
      "-----------------------------------------------------\n",
      "Product with highest sales in Italy is INFLATABLE POLITICAL GLOBE  \n",
      " The sales count (in units) is : 360 and revenue generated is 267.0 \n",
      "-----------------------------------------------------\n",
      "Product with highest sales in Japan is ROUND SNACK BOXES SET OF 4 FRUITS  \n",
      " The sales count (in units) is : 1488 and revenue generated is 3820.95 \n",
      "-----------------------------------------------------\n",
      "Product with highest sales in Korea is CACTI T-LIGHT CANDLES \n",
      " The sales count (in units) is : 48 and revenue generated is 20.16 \n",
      "-----------------------------------------------------\n",
      "Product with highest sales in Lebanon is PLASTERS IN TIN SKULLS \n",
      " The sales count (in units) is : 12 and revenue generated is 19.8 \n",
      "-----------------------------------------------------\n",
      "Product with highest sales in Lithuania is GOLD MUG BONE CHINA TREE OF LIFE \n",
      " The sales count (in units) is : 72 and revenue generated is 118.8 \n",
      "-----------------------------------------------------\n",
      "Product with highest sales in Malta is VICTORIAN SEWING KIT \n",
      " The sales count (in units) is : 144 and revenue generated is 122.4 \n",
      "-----------------------------------------------------\n",
      "Product with highest sales in Netherlands is FOLKART ZINC HEART CHRISTMAS DEC \n",
      " The sales count (in units) is : 5425 and revenue generated is 3937.33 \n",
      "-----------------------------------------------------\n",
      "Product with highest sales in Nigeria is EMPIRE GIFT WRAP \n",
      " The sales count (in units) is : 25 and revenue generated is 10.5 \n",
      "-----------------------------------------------------\n",
      "Product with highest sales in Norway is PINK HEART SHAPE EGG FRYING PAN \n",
      " The sales count (in units) is : 194 and revenue generated is 262.5 \n",
      "-----------------------------------------------------\n",
      "Product with highest sales in Poland is STRAWBERRY CERAMIC TRINKET BOX \n",
      " The sales count (in units) is : 120 and revenue generated is 150.0 \n",
      "-----------------------------------------------------\n",
      "Product with highest sales in Portugal is LUNCH BAG RED SPOTTY \n",
      " The sales count (in units) is : 200 and revenue generated is 310.0 \n",
      "-----------------------------------------------------\n",
      "Product with highest sales in RSA is PINK  POLKADOT CUP \n",
      " The sales count (in units) is : 96 and revenue generated is 69.12 \n",
      "-----------------------------------------------------\n",
      "Product with highest sales in Singapore is WHITE HANGING HEART T-LIGHT HOLDER \n",
      " The sales count (in units) is : 96 and revenue generated is 244.8 \n",
      "-----------------------------------------------------\n",
      "Product with highest sales in Spain is ASSORTED COLOUR BIRD ORNAMENT \n",
      " The sales count (in units) is : 592 and revenue generated is 923.68 \n",
      "-----------------------------------------------------\n",
      "Product with highest sales in Sweden is MINI HIGHLIGHTER PENS \n",
      " The sales count (in units) is : 5760 and revenue generated is 518.4 \n",
      "-----------------------------------------------------\n",
      "Product with highest sales in Switzerland is GIRLS ALPHABET IRON ON PATCHES  \n",
      " The sales count (in units) is : 288 and revenue generated is 60.48 \n",
      "-----------------------------------------------------\n",
      "Product with highest sales in Thailand is ENVELOPE 50 BLOSSOM IMAGES \n",
      " The sales count (in units) is : 288 and revenue generated is 120.96 \n",
      "-----------------------------------------------------\n",
      "Product with highest sales in USA is TOAST ITS - I LOVE YOU  \n",
      " The sales count (in units) is : 408 and revenue generated is 452.4 \n",
      "-----------------------------------------------------\n",
      "Product with highest sales in United Arab Emirates is BOYS ALPHABET IRON ON PATCHES \n",
      " The sales count (in units) is : 288 and revenue generated is 60.48 \n",
      "-----------------------------------------------------\n",
      "Product with highest sales in United Kingdom is WHITE HANGING HEART T-LIGHT HOLDER \n",
      " The sales count (in units) is : 52252 and revenue generated is 146226.43 \n",
      "-----------------------------------------------------\n",
      "Product with highest sales in Unspecified is 60 TEATIME FAIRY CAKE CASES \n",
      " The sales count (in units) is : 120 and revenue generated is 66.0 \n",
      "-----------------------------------------------------\n",
      "Product with highest sales in West Indies is BROCADE RING PURSE  \n",
      " The sales count (in units) is : 36 and revenue generated is 7.56 \n",
      "-----------------------------------------------------\n"
     ]
    }
   ],
   "source": [
    "for i in country_count.Country.unique():\n",
    "    temp = country_count[country_count.Country == i]\n",
    "    prod = temp.Description[temp.Count == np.max(temp.Count)].values[0]\n",
    "    count = np.max(temp.Count)\n",
    "    revenue = np.round((np.sum(filtered_retaildata.Revenue[(filtered_retaildata.Description == prod) & (filtered_retaildata.Country == i)])),2)\n",
    "    print (\"Product with highest sales in {} is {} \\n The sales count (in units) is : {} and revenue generated is {} \".format(i,prod,count,revenue))\n",
    "    print('-----------------------------------------------------')"
   ]
  },
  {
   "cell_type": "code",
   "execution_count": 62,
   "metadata": {
    "colab": {
     "base_uri": "https://localhost:8080/",
     "height": 68
    },
    "colab_type": "code",
    "executionInfo": {
     "elapsed": 907,
     "status": "ok",
     "timestamp": 1588552126047,
     "user": {
      "displayName": "Shalabh Neema",
      "photoUrl": "",
      "userId": "09767217883614479239"
     },
     "user_tz": 420
    },
    "id": "sDGZIhKtx42J",
    "outputId": "599bfea8-b2e0-4004-f6f2-4349b7a77975"
   },
   "outputs": [
    {
     "data": {
      "text/plain": [
       "Index(['Invoice', 'StockCode', 'Description', 'Quantity', 'InvoiceDate',\n",
       "       'Price', 'Customer ID', 'Country', 'Revenue'],\n",
       "      dtype='object')"
      ]
     },
     "execution_count": 62,
     "metadata": {
      "tags": []
     },
     "output_type": "execute_result"
    }
   ],
   "source": [
    "filtered_retaildata.columns"
   ]
  },
  {
   "cell_type": "code",
   "execution_count": 0,
   "metadata": {
    "colab": {},
    "colab_type": "code",
    "id": "J7CNIZw8x42P"
   },
   "outputs": [],
   "source": [
    "revenue_country_wise = filtered_retaildata.groupby('Country').agg({'Revenue':np.sum}).reset_index()"
   ]
  },
  {
   "cell_type": "code",
   "execution_count": 0,
   "metadata": {
    "colab": {},
    "colab_type": "code",
    "id": "ihVzGI3bx42U"
   },
   "outputs": [],
   "source": [
    "x1 = revenue_country_wise.sort_values('Revenue' , ascending=False).Country.head(10)\n",
    "y1 = revenue_country_wise.sort_values('Revenue' , ascending=False).Revenue.head(10)"
   ]
  },
  {
   "cell_type": "code",
   "execution_count": 65,
   "metadata": {
    "colab": {
     "base_uri": "https://localhost:8080/",
     "height": 367
    },
    "colab_type": "code",
    "executionInfo": {
     "elapsed": 1185,
     "status": "ok",
     "timestamp": 1588552134183,
     "user": {
      "displayName": "Shalabh Neema",
      "photoUrl": "",
      "userId": "09767217883614479239"
     },
     "user_tz": 420
    },
    "id": "-z-hi3XGx42e",
    "outputId": "9148c517-9adf-44d9-b398-b16aaaaaf435"
   },
   "outputs": [
    {
     "data": {
      "image/png": "[encoded data removed]",
      "text/plain": [
       "<Figure size 432x288 with 1 Axes>"
      ]
     },
     "metadata": {
      "tags": []
     },
     "output_type": "display_data"
    }
   ],
   "source": [
    "fig = plt.figure()\n",
    "ax = fig.add_axes([0,0,1,1])\n",
    "ax.barh(x1,y1)\n",
    "ax.invert_yaxis()\n",
    "ax.set_title('Top 10 Countries with maximum revenue')\n",
    "plt.show()"
   ]
  },
  {
   "cell_type": "markdown",
   "metadata": {
    "colab_type": "text",
    "id": "rcXlJd_wx42n"
   },
   "source": [
    "#### When were sales highest? On which day?"
   ]
  },
  {
   "cell_type": "code",
   "execution_count": 25,
   "metadata": {
    "colab": {
     "base_uri": "https://localhost:8080/",
     "height": 139
    },
    "colab_type": "code",
    "executionInfo": {
     "elapsed": 4311,
     "status": "ok",
     "timestamp": 1588543192732,
     "user": {
      "displayName": "Shalabh Neema",
      "photoUrl": "",
      "userId": "09767217883614479239"
     },
     "user_tz": 420
    },
    "id": "KOxsIJWjx42o",
    "outputId": "e2ce7ba5-07df-4f61-e62f-151aa4646587"
   },
   "outputs": [
    {
     "name": "stderr",
     "output_type": "stream",
     "text": [
      "/usr/local/lib/python3.6/dist-packages/ipykernel_launcher.py:1: SettingWithCopyWarning: \n",
      "A value is trying to be set on a copy of a slice from a DataFrame.\n",
      "Try using .loc[row_indexer,col_indexer] = value instead\n",
      "\n",
      "See the caveats in the documentation: https://pandas.pydata.org/pandas-docs/stable/user_guide/indexing.html#returning-a-view-versus-a-copy\n",
      "  \"\"\"Entry point for launching an IPython kernel.\n"
     ]
    }
   ],
   "source": [
    "filtered_retaildata['InvoiceDateOnly'] = filtered_retaildata.InvoiceDate.apply(lambda x : x.date() )\n",
    "date_sales = filtered_retaildata.groupby(['InvoiceDateOnly']).agg({'Quantity':np.sum}).reset_index()\n",
    "date_sales = date_sales.sort_values(['Quantity'],ascending=False)"
   ]
  },
  {
   "cell_type": "code",
   "execution_count": 26,
   "metadata": {
    "colab": {
     "base_uri": "https://localhost:8080/",
     "height": 204
    },
    "colab_type": "code",
    "executionInfo": {
     "elapsed": 849,
     "status": "ok",
     "timestamp": 1588543195082,
     "user": {
      "displayName": "Shalabh Neema",
      "photoUrl": "",
      "userId": "09767217883614479239"
     },
     "user_tz": 420
    },
    "id": "wwot8iTHx42s",
    "outputId": "73544f31-a63a-4535-ea20-b8777a52dfde"
   },
   "outputs": [
    {
     "data": {
      "text/html": [
       "<div>\n",
       "<style scoped>\n",
       "    .dataframe tbody tr th:only-of-type {\n",
       "        vertical-align: middle;\n",
       "    }\n",
       "\n",
       "    .dataframe tbody tr th {\n",
       "        vertical-align: top;\n",
       "    }\n",
       "\n",
       "    .dataframe thead th {\n",
       "        text-align: right;\n",
       "    }\n",
       "</style>\n",
       "<table border=\"1\" class=\"dataframe\">\n",
       "  <thead>\n",
       "    <tr style=\"text-align: right;\">\n",
       "      <th></th>\n",
       "      <th>InvoiceDateOnly</th>\n",
       "      <th>Quantity</th>\n",
       "    </tr>\n",
       "  </thead>\n",
       "  <tbody>\n",
       "    <tr>\n",
       "      <th>243</th>\n",
       "      <td>2010-09-27</td>\n",
       "      <td>125534</td>\n",
       "    </tr>\n",
       "    <tr>\n",
       "      <th>202</th>\n",
       "      <td>2010-08-09</td>\n",
       "      <td>100236</td>\n",
       "    </tr>\n",
       "    <tr>\n",
       "      <th>57</th>\n",
       "      <td>2010-02-15</td>\n",
       "      <td>96591</td>\n",
       "    </tr>\n",
       "    <tr>\n",
       "      <th>83</th>\n",
       "      <td>2010-03-17</td>\n",
       "      <td>78885</td>\n",
       "    </tr>\n",
       "    <tr>\n",
       "      <th>36</th>\n",
       "      <td>2010-01-21</td>\n",
       "      <td>72914</td>\n",
       "    </tr>\n",
       "  </tbody>\n",
       "</table>\n",
       "</div>"
      ],
      "text/plain": [
       "    InvoiceDateOnly  Quantity\n",
       "243      2010-09-27    125534\n",
       "202      2010-08-09    100236\n",
       "57       2010-02-15     96591\n",
       "83       2010-03-17     78885\n",
       "36       2010-01-21     72914"
      ]
     },
     "execution_count": 26,
     "metadata": {
      "tags": []
     },
     "output_type": "execute_result"
    }
   ],
   "source": [
    "date_sales.head()"
   ]
  },
  {
   "cell_type": "code",
   "execution_count": 27,
   "metadata": {
    "colab": {
     "base_uri": "https://localhost:8080/",
     "height": 34
    },
    "colab_type": "code",
    "executionInfo": {
     "elapsed": 1442,
     "status": "ok",
     "timestamp": 1588543198974,
     "user": {
      "displayName": "Shalabh Neema",
      "photoUrl": "",
      "userId": "09767217883614479239"
     },
     "user_tz": 420
    },
    "id": "V_BuvsGox42y",
    "outputId": "7683a075-da2f-4c2c-e6c7-207c4d5271b3"
   },
   "outputs": [
    {
     "name": "stdout",
     "output_type": "stream",
     "text": [
      "Highest sales occurred on 2010-09-27 (125534 units).\n"
     ]
    }
   ],
   "source": [
    "print (\"Highest sales occurred on {} ({} units).\".format(date_sales.head(1).InvoiceDateOnly.values[0],date_sales.head(1).Quantity.values[0]))"
   ]
  },
  {
   "cell_type": "code",
   "execution_count": 28,
   "metadata": {
    "colab": {
     "base_uri": "https://localhost:8080/",
     "height": 34
    },
    "colab_type": "code",
    "executionInfo": {
     "elapsed": 884,
     "status": "ok",
     "timestamp": 1588543201347,
     "user": {
      "displayName": "Shalabh Neema",
      "photoUrl": "",
      "userId": "09767217883614479239"
     },
     "user_tz": 420
    },
    "id": "WUSG3VGOx424",
    "outputId": "15ea0f65-d810-4d0b-9f28-93a3310684e3"
   },
   "outputs": [
    {
     "name": "stdout",
     "output_type": "stream",
     "text": [
      "Lowest sales occurred on 2010-02-10 (3783 units).\n"
     ]
    }
   ],
   "source": [
    "print (\"Lowest sales occurred on {} ({} units).\".format(date_sales.tail(1).InvoiceDateOnly.values[0],date_sales.tail(1).Quantity.values[0]))"
   ]
  },
  {
   "cell_type": "markdown",
   "metadata": {
    "colab_type": "text",
    "id": "Ygc26Gzwx428"
   },
   "source": [
    "#### Sale trends in  5 countries "
   ]
  },
  {
   "cell_type": "code",
   "execution_count": 0,
   "metadata": {
    "colab": {},
    "colab_type": "code",
    "id": "m0U3kw0Qx42_"
   },
   "outputs": [],
   "source": [
    "country_sales = filtered_retaildata.groupby(['Country']).agg({'Quantity':np.sum}).reset_index()\n",
    "countries = country_sales.head(4).Country.tolist()"
   ]
  },
  {
   "cell_type": "code",
   "execution_count": 30,
   "metadata": {
    "colab": {
     "base_uri": "https://localhost:8080/",
     "height": 1000
    },
    "colab_type": "code",
    "executionInfo": {
     "elapsed": 2277,
     "status": "ok",
     "timestamp": 1588543207464,
     "user": {
      "displayName": "Shalabh Neema",
      "photoUrl": "",
      "userId": "09767217883614479239"
     },
     "user_tz": 420
    },
    "id": "3Z2l-oIqx43G",
    "outputId": "cd407a94-fa3b-4827-bb13-90bb6033a642"
   },
   "outputs": [
    {
     "data": {
      "image/png": "[encoded data removed]",
      "text/plain": [
       "<Figure size 432x288 with 1 Axes>"
      ]
     },
     "metadata": {
      "needs_background": "light",
      "tags": []
     },
     "output_type": "display_data"
    },
    {
     "data": {
      "image/png": "[encoded data removed]",
      "text/plain": [
       "<Figure size 432x288 with 1 Axes>"
      ]
     },
     "metadata": {
      "needs_background": "light",
      "tags": []
     },
     "output_type": "display_data"
    },
    {
     "data": {
      "image/png": "[encoded data removed]",
      "text/plain": [
       "<Figure size 432x288 with 1 Axes>"
      ]
     },
     "metadata": {
      "needs_background": "light",
      "tags": []
     },
     "output_type": "display_data"
    },
    {
     "data": {
      "image/png": "[encoded data removed]",
      "text/plain": [
       "<Figure size 432x288 with 1 Axes>"
      ]
     },
     "metadata": {
      "needs_background": "light",
      "tags": []
     },
     "output_type": "display_data"
    }
   ],
   "source": [
    "for country in countries:\n",
    "    country_sales = filtered_retaildata[filtered_retaildata.Country ==country]\n",
    "    temp = country_sales.groupby(['InvoiceDateOnly']).agg({'Quantity':np.sum}).reset_index()\n",
    "    temp.plot(title=('Sale trends for '+country))\n",
    "    plt.show()\n"
   ]
  },
  {
   "cell_type": "markdown",
   "metadata": {
    "colab_type": "text",
    "id": "QnIG5onTjs9D"
   },
   "source": [
    "### Top 5 Most common countries"
   ]
  },
  {
   "cell_type": "code",
   "execution_count": 31,
   "metadata": {
    "colab": {
     "base_uri": "https://localhost:8080/",
     "height": 364
    },
    "colab_type": "code",
    "executionInfo": {
     "elapsed": 1249,
     "status": "ok",
     "timestamp": 1588543313483,
     "user": {
      "displayName": "Shalabh Neema",
      "photoUrl": "",
      "userId": "09767217883614479239"
     },
     "user_tz": 420
    },
    "id": "9ar8uaocjsZX",
    "outputId": "50d8611b-fc8c-4927-fd49-d4562a2616ba"
   },
   "outputs": [
    {
     "data": {
      "text/plain": [
       "<matplotlib.axes._subplots.AxesSubplot at 0x7f477cbe1978>"
      ]
     },
     "execution_count": 31,
     "metadata": {
      "tags": []
     },
     "output_type": "execute_result"
    },
    {
     "data": {
      "image/png": "[encoded data removed]",
      "text/plain": [
       "<Figure size 432x288 with 1 Axes>"
      ]
     },
     "metadata": {
      "needs_background": "light",
      "tags": []
     },
     "output_type": "display_data"
    }
   ],
   "source": [
    "#Top 5 Most common countries\n",
    "filtered_retaildata.Country.value_counts()[:5].plot(kind='bar')"
   ]
  },
  {
   "cell_type": "markdown",
   "metadata": {
    "colab_type": "text",
    "id": "9ImUKv6rj_Jv"
   },
   "source": [
    "### Top 5 least common countries"
   ]
  },
  {
   "cell_type": "code",
   "execution_count": 33,
   "metadata": {
    "colab": {
     "base_uri": "https://localhost:8080/",
     "height": 339
    },
    "colab_type": "code",
    "executionInfo": {
     "elapsed": 1038,
     "status": "ok",
     "timestamp": 1588543392404,
     "user": {
      "displayName": "Shalabh Neema",
      "photoUrl": "",
      "userId": "09767217883614479239"
     },
     "user_tz": 420
    },
    "id": "2JFeh2Z6kDeJ",
    "outputId": "ceff84de-c4de-4bcb-d51d-a91044ba5420"
   },
   "outputs": [
    {
     "data": {
      "text/plain": [
       "<matplotlib.axes._subplots.AxesSubplot at 0x7f477db1cbe0>"
      ]
     },
     "execution_count": 33,
     "metadata": {
      "tags": []
     },
     "output_type": "execute_result"
    },
    {
     "data": {
      "image/png": "[encoded data removed]",
      "text/plain": [
       "<Figure size 432x288 with 1 Axes>"
      ]
     },
     "metadata": {
      "needs_background": "light",
      "tags": []
     },
     "output_type": "display_data"
    }
   ],
   "source": [
    "filtered_retaildata.Country.value_counts()[-5:].plot(kind='bar')"
   ]
  },
  {
   "cell_type": "code",
   "execution_count": null,
   "metadata": {},
   "outputs": [],
   "source": []
  }
 ],
 "metadata": {
  "colab": {
   "collapsed_sections": [
    "1sSqQLaDx44V",
    "okFpMDn5x450",
    "_XhPdeNEx453",
    "1N3bFB75x46A"
   ],
   "name": "EDA_Retail .ipynb",
   "provenance": []
  },
  "kernelspec": {
   "display_name": "Python 3",
   "language": "python",
   "name": "python3"
  },
  "language_info": {
   "codemirror_mode": {
    "name": "ipython",
    "version": 3
   },
   "file_extension": ".py",
   "mimetype": "text/x-python",
   "name": "python",
   "nbconvert_exporter": "python",
   "pygments_lexer": "ipython3",
   "version": "3.7.4"
  }
 },
 "nbformat": 4,
 "nbformat_minor": 1
}
