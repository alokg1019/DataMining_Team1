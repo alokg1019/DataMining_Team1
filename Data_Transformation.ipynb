{
 "cells": [
  {
   "cell_type": "code",
   "execution_count": 71,
   "metadata": {},
   "outputs": [
    {
     "name": "stdout",
     "output_type": "stream",
     "text": [
      "Done\n"
     ]
    }
   ],
   "source": [
    "all_dict = {}\n",
    "\n",
    "# Ensure correct Path to data file\n",
    "with open('data/CES/ces_hybrid.csv') as f:\n",
    "    cf = csv.reader(f)\n",
    "    for row in cf:\n",
    "        if row[0] not in all_dict:\n",
    "            all_dict[row[0]] = [row[0], row[1]]\n",
    "        else:\n",
    "            all_dict[row[0]].append(row[1])\n",
    "        \n",
    "\n",
    "with open('data/CES/output3.csv', mode='w') as csv_file:\n",
    "    fieldnames = ['id', 'city', 'income', 'members', 'description']\n",
    "    writer = csv.DictWriter(csv_file, fieldnames=fieldnames)\n",
    "\n",
    "    writer.writeheader()\n",
    "    \n",
    "    for k,v in all_dict.items():\n",
    "        temp_row = {'id': v[0], 'city': v[1].replace(\"City_\", \"\"), 'income': v[2].replace(\"Income_\", \"\"), 'members': v[3].replace(\"Members_\", \"\")}\n",
    "        for index, i in enumerate(v):\n",
    "            if index > 3:\n",
    "                temp_row['description'] = i\n",
    "                writer.writerow(temp_row)\n",
    "                \n",
    "print(\"Done\")"
   ]
  },
  {
   "cell_type": "code",
   "execution_count": null,
   "metadata": {},
   "outputs": [],
   "source": []
  }
 ],
 "metadata": {
  "kernelspec": {
   "display_name": "macbook",
   "language": "python",
   "name": "macbook"
  },
  "language_info": {
   "codemirror_mode": {
    "name": "ipython",
    "version": 3
   },
   "file_extension": ".py",
   "mimetype": "text/x-python",
   "name": "python",
   "nbconvert_exporter": "python",
   "pygments_lexer": "ipython3",
   "version": "3.7.4"
  }
 },
 "nbformat": 4,
 "nbformat_minor": 2
}
