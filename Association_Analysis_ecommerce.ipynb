{
 "cells": [
  {
   "cell_type": "code",
   "execution_count": 0,
   "metadata": {
    "colab": {},
    "colab_type": "code",
    "id": "xe9NfsTvWyz_"
   },
   "outputs": [],
   "source": [
    "import numpy as np \n",
    "import pandas as pd \n",
    "from mlxtend.frequent_patterns import apriori, association_rules"
   ]
  },
  {
   "cell_type": "code",
   "execution_count": 0,
   "metadata": {
    "colab": {
     "base_uri": "https://localhost:8080/",
     "height": 606
    },
    "colab_type": "code",
    "id": "TPCFMKMUXCSK",
    "outputId": "195d8959-2d8d-48a9-ce6c-e248c4284251"
   },
   "outputs": [
    {
     "data": {
      "text/html": [
       "<div>\n",
       "<style scoped>\n",
       "    .dataframe tbody tr th:only-of-type {\n",
       "        vertical-align: middle;\n",
       "    }\n",
       "\n",
       "    .dataframe tbody tr th {\n",
       "        vertical-align: top;\n",
       "    }\n",
       "\n",
       "    .dataframe thead th {\n",
       "        text-align: right;\n",
       "    }\n",
       "</style>\n",
       "<table border=\"1\" class=\"dataframe\">\n",
       "  <thead>\n",
       "    <tr style=\"text-align: right;\">\n",
       "      <th></th>\n",
       "      <th>Unnamed: 0</th>\n",
       "      <th>Invoice</th>\n",
       "      <th>StockCode</th>\n",
       "      <th>Description</th>\n",
       "      <th>Quantity</th>\n",
       "      <th>InvoiceDate</th>\n",
       "      <th>Price</th>\n",
       "      <th>Customer ID</th>\n",
       "      <th>Country</th>\n",
       "    </tr>\n",
       "  </thead>\n",
       "  <tbody>\n",
       "    <tr>\n",
       "      <th>0</th>\n",
       "      <td>0</td>\n",
       "      <td>489434</td>\n",
       "      <td>85048</td>\n",
       "      <td>15CM CHRISTMAS GLASS BALL 20 LIGHTS</td>\n",
       "      <td>12</td>\n",
       "      <td>2009-12-01 07:45:00</td>\n",
       "      <td>6.95</td>\n",
       "      <td>13085.0</td>\n",
       "      <td>United Kingdom</td>\n",
       "    </tr>\n",
       "    <tr>\n",
       "      <th>1</th>\n",
       "      <td>1</td>\n",
       "      <td>489434</td>\n",
       "      <td>79323P</td>\n",
       "      <td>PINK CHERRY LIGHTS</td>\n",
       "      <td>12</td>\n",
       "      <td>2009-12-01 07:45:00</td>\n",
       "      <td>6.75</td>\n",
       "      <td>13085.0</td>\n",
       "      <td>United Kingdom</td>\n",
       "    </tr>\n",
       "    <tr>\n",
       "      <th>2</th>\n",
       "      <td>2</td>\n",
       "      <td>489434</td>\n",
       "      <td>79323W</td>\n",
       "      <td>WHITE CHERRY LIGHTS</td>\n",
       "      <td>12</td>\n",
       "      <td>2009-12-01 07:45:00</td>\n",
       "      <td>6.75</td>\n",
       "      <td>13085.0</td>\n",
       "      <td>United Kingdom</td>\n",
       "    </tr>\n",
       "    <tr>\n",
       "      <th>3</th>\n",
       "      <td>3</td>\n",
       "      <td>489434</td>\n",
       "      <td>22041</td>\n",
       "      <td>RECORD FRAME 7\" SINGLE SIZE</td>\n",
       "      <td>48</td>\n",
       "      <td>2009-12-01 07:45:00</td>\n",
       "      <td>2.10</td>\n",
       "      <td>13085.0</td>\n",
       "      <td>United Kingdom</td>\n",
       "    </tr>\n",
       "    <tr>\n",
       "      <th>4</th>\n",
       "      <td>4</td>\n",
       "      <td>489434</td>\n",
       "      <td>21232</td>\n",
       "      <td>STRAWBERRY CERAMIC TRINKET BOX</td>\n",
       "      <td>24</td>\n",
       "      <td>2009-12-01 07:45:00</td>\n",
       "      <td>1.25</td>\n",
       "      <td>13085.0</td>\n",
       "      <td>United Kingdom</td>\n",
       "    </tr>\n",
       "    <tr>\n",
       "      <th>...</th>\n",
       "      <td>...</td>\n",
       "      <td>...</td>\n",
       "      <td>...</td>\n",
       "      <td>...</td>\n",
       "      <td>...</td>\n",
       "      <td>...</td>\n",
       "      <td>...</td>\n",
       "      <td>...</td>\n",
       "      <td>...</td>\n",
       "    </tr>\n",
       "    <tr>\n",
       "      <th>400911</th>\n",
       "      <td>525456</td>\n",
       "      <td>538171</td>\n",
       "      <td>22271</td>\n",
       "      <td>FELTCRAFT DOLL ROSIE</td>\n",
       "      <td>2</td>\n",
       "      <td>2010-12-09 20:01:00</td>\n",
       "      <td>2.95</td>\n",
       "      <td>17530.0</td>\n",
       "      <td>United Kingdom</td>\n",
       "    </tr>\n",
       "    <tr>\n",
       "      <th>400912</th>\n",
       "      <td>525457</td>\n",
       "      <td>538171</td>\n",
       "      <td>22750</td>\n",
       "      <td>FELTCRAFT PRINCESS LOLA DOLL</td>\n",
       "      <td>1</td>\n",
       "      <td>2010-12-09 20:01:00</td>\n",
       "      <td>3.75</td>\n",
       "      <td>17530.0</td>\n",
       "      <td>United Kingdom</td>\n",
       "    </tr>\n",
       "    <tr>\n",
       "      <th>400913</th>\n",
       "      <td>525458</td>\n",
       "      <td>538171</td>\n",
       "      <td>22751</td>\n",
       "      <td>FELTCRAFT PRINCESS OLIVIA DOLL</td>\n",
       "      <td>1</td>\n",
       "      <td>2010-12-09 20:01:00</td>\n",
       "      <td>3.75</td>\n",
       "      <td>17530.0</td>\n",
       "      <td>United Kingdom</td>\n",
       "    </tr>\n",
       "    <tr>\n",
       "      <th>400914</th>\n",
       "      <td>525459</td>\n",
       "      <td>538171</td>\n",
       "      <td>20970</td>\n",
       "      <td>PINK FLORAL FELTCRAFT SHOULDER BAG</td>\n",
       "      <td>2</td>\n",
       "      <td>2010-12-09 20:01:00</td>\n",
       "      <td>3.75</td>\n",
       "      <td>17530.0</td>\n",
       "      <td>United Kingdom</td>\n",
       "    </tr>\n",
       "    <tr>\n",
       "      <th>400915</th>\n",
       "      <td>525460</td>\n",
       "      <td>538171</td>\n",
       "      <td>21931</td>\n",
       "      <td>JUMBO STORAGE BAG SUKI</td>\n",
       "      <td>2</td>\n",
       "      <td>2010-12-09 20:01:00</td>\n",
       "      <td>1.95</td>\n",
       "      <td>17530.0</td>\n",
       "      <td>United Kingdom</td>\n",
       "    </tr>\n",
       "  </tbody>\n",
       "</table>\n",
       "<p>400916 rows × 9 columns</p>\n",
       "</div>"
      ],
      "text/plain": [
       "        Unnamed: 0  Invoice StockCode  ... Price  Customer ID         Country\n",
       "0                0   489434     85048  ...  6.95      13085.0  United Kingdom\n",
       "1                1   489434    79323P  ...  6.75      13085.0  United Kingdom\n",
       "2                2   489434    79323W  ...  6.75      13085.0  United Kingdom\n",
       "3                3   489434     22041  ...  2.10      13085.0  United Kingdom\n",
       "4                4   489434     21232  ...  1.25      13085.0  United Kingdom\n",
       "...            ...      ...       ...  ...   ...          ...             ...\n",
       "400911      525456   538171     22271  ...  2.95      17530.0  United Kingdom\n",
       "400912      525457   538171     22750  ...  3.75      17530.0  United Kingdom\n",
       "400913      525458   538171     22751  ...  3.75      17530.0  United Kingdom\n",
       "400914      525459   538171     20970  ...  3.75      17530.0  United Kingdom\n",
       "400915      525460   538171     21931  ...  1.95      17530.0  United Kingdom\n",
       "\n",
       "[400916 rows x 9 columns]"
      ]
     },
     "execution_count": 3,
     "metadata": {
      "tags": []
     },
     "output_type": "execute_result"
    }
   ],
   "source": [
    "data = pd.read_csv(\"/content/filtered_data.csv\") ;\n",
    "data"
   ]
  },
  {
   "cell_type": "code",
   "execution_count": 0,
   "metadata": {
    "colab": {
     "base_uri": "https://localhost:8080/",
     "height": 119
    },
    "colab_type": "code",
    "id": "af9wMcXuXUgN",
    "outputId": "585eb178-f81a-415b-b1eb-19e55871be82"
   },
   "outputs": [
    {
     "name": "stdout",
     "output_type": "stream",
     "text": [
      "['United Kingdom' 'France' 'USA' 'Belgium' 'Australia' 'EIRE' 'Germany'\n",
      " 'Portugal' 'Denmark' 'Netherlands' 'Poland' 'Channel Islands' 'Spain'\n",
      " 'Cyprus' 'Greece' 'Norway' 'Austria' 'Sweden' 'United Arab Emirates'\n",
      " 'Finland' 'Italy' 'Switzerland' 'Japan' 'Unspecified' 'Nigeria' 'Malta'\n",
      " 'RSA' 'Singapore' 'Bahrain' 'Thailand' 'Israel' 'Lithuania' 'West Indies'\n",
      " 'Korea' 'Brazil' 'Canada' 'Iceland']\n"
     ]
    }
   ],
   "source": [
    "print(data['Country'].unique())\n",
    "# Stripping extra spaces in the descriptioni \n",
    "data['Description']= data['Description'].str.strip();"
   ]
  },
  {
   "cell_type": "code",
   "execution_count": 0,
   "metadata": {
    "colab": {},
    "colab_type": "code",
    "id": "_Q76SPeOXhQZ"
   },
   "outputs": [],
   "source": [
    "# Transactions done in France \n",
    "basket_France =(data[data['Country'] ==\"France\"]\n",
    "          .groupby(['Invoice', 'Description'])['Quantity']\n",
    "          .sum().unstack().reset_index().fillna(0).set_index('Invoice'))\n",
    "    \n",
    "# Transactions done in Portugal \n",
    "basket_Por =(data[data['Country'] ==\"Portugal\"]\n",
    "          .groupby(['Invoice', 'Description'])['Quantity']\n",
    "          .sum().unstack().reset_index().fillna(0).set_index('Invoice'))\n",
    "  \n",
    "# Transactions done in Sweden     \n",
    "basket_Sweden =(data[data['Country'] ==\"Sweden\"]\n",
    "          .groupby(['Invoice', 'Description'])['Quantity']\n",
    "          .sum().unstack().reset_index().fillna(0).set_index('Invoice'))"
   ]
  },
  {
   "cell_type": "code",
   "execution_count": 0,
   "metadata": {
    "colab": {},
    "colab_type": "code",
    "id": "NLBgmiRoX3O5"
   },
   "outputs": [],
   "source": [
    "#Helper Fuctions for generating the rules\n",
    "def hot_encode(x): \n",
    "    if x <= 0:\n",
    "        return 0\n",
    "    if x >= 1:\n",
    "        return 1\n",
    "  \n",
    "# Encoding the datasets \n",
    "# apply hot_encode function to data from above\n",
    "basket_encoded_France = basket_France.applymap(hot_encode)\n",
    "basket_France = basket_encoded_France \n",
    "\n",
    "basket_encoded_Por =basket_Por.applymap(hot_encode)\n",
    "basket_Por = basket_encoded_Por \n",
    "  \n",
    "basket_encoded_Sweden = basket_Sweden.applymap(hot_encode)\n",
    "basket_Sweden = basket_encoded_Sweden "
   ]
  },
  {
   "cell_type": "code",
   "execution_count": 0,
   "metadata": {
    "colab": {
     "base_uri": "https://localhost:8080/",
     "height": 306
    },
    "colab_type": "code",
    "id": "WgrTIAOsYTa0",
    "outputId": "5eb83194-9531-481a-eca1-32fcf05e6b11"
   },
   "outputs": [
    {
     "data": {
      "text/html": [
       "<div>\n",
       "<style scoped>\n",
       "    .dataframe tbody tr th:only-of-type {\n",
       "        vertical-align: middle;\n",
       "    }\n",
       "\n",
       "    .dataframe tbody tr th {\n",
       "        vertical-align: top;\n",
       "    }\n",
       "\n",
       "    .dataframe thead th {\n",
       "        text-align: right;\n",
       "    }\n",
       "</style>\n",
       "<table border=\"1\" class=\"dataframe\">\n",
       "  <thead>\n",
       "    <tr style=\"text-align: right;\">\n",
       "      <th></th>\n",
       "      <th>antecedents</th>\n",
       "      <th>consequents</th>\n",
       "      <th>antecedent support</th>\n",
       "      <th>consequent support</th>\n",
       "      <th>support</th>\n",
       "      <th>confidence</th>\n",
       "      <th>lift</th>\n",
       "      <th>leverage</th>\n",
       "      <th>conviction</th>\n",
       "    </tr>\n",
       "  </thead>\n",
       "  <tbody>\n",
       "    <tr>\n",
       "      <th>14</th>\n",
       "      <td>(POSTAGE)</td>\n",
       "      <td>(BLUE 3 PIECE MINI DOTS CUTLERY SET)</td>\n",
       "      <td>0.745763</td>\n",
       "      <td>0.067797</td>\n",
       "      <td>0.050847</td>\n",
       "      <td>0.068182</td>\n",
       "      <td>1.005682</td>\n",
       "      <td>0.000287</td>\n",
       "      <td>1.000413</td>\n",
       "    </tr>\n",
       "    <tr>\n",
       "      <th>115</th>\n",
       "      <td>(POSTAGE)</td>\n",
       "      <td>(PACK OF 60 PINK PAISLEY CAKE CASES)</td>\n",
       "      <td>0.745763</td>\n",
       "      <td>0.067797</td>\n",
       "      <td>0.050847</td>\n",
       "      <td>0.068182</td>\n",
       "      <td>1.005682</td>\n",
       "      <td>0.000287</td>\n",
       "      <td>1.000413</td>\n",
       "    </tr>\n",
       "    <tr>\n",
       "      <th>439</th>\n",
       "      <td>(POSTAGE)</td>\n",
       "      <td>(PLASTERS IN TIN CIRCUS PARADE, RED TOADSTOOL ...</td>\n",
       "      <td>0.745763</td>\n",
       "      <td>0.067797</td>\n",
       "      <td>0.050847</td>\n",
       "      <td>0.068182</td>\n",
       "      <td>1.005682</td>\n",
       "      <td>0.000287</td>\n",
       "      <td>1.000413</td>\n",
       "    </tr>\n",
       "    <tr>\n",
       "      <th>505</th>\n",
       "      <td>(POSTAGE)</td>\n",
       "      <td>(STRAWBERRY LUNCH BOX WITH CUTLERY, RED TOADST...</td>\n",
       "      <td>0.745763</td>\n",
       "      <td>0.063559</td>\n",
       "      <td>0.050847</td>\n",
       "      <td>0.068182</td>\n",
       "      <td>1.072727</td>\n",
       "      <td>0.003447</td>\n",
       "      <td>1.004961</td>\n",
       "    </tr>\n",
       "    <tr>\n",
       "      <th>193</th>\n",
       "      <td>(POSTAGE)</td>\n",
       "      <td>(STARS GIFT TAPE)</td>\n",
       "      <td>0.745763</td>\n",
       "      <td>0.059322</td>\n",
       "      <td>0.050847</td>\n",
       "      <td>0.068182</td>\n",
       "      <td>1.149351</td>\n",
       "      <td>0.006607</td>\n",
       "      <td>1.009508</td>\n",
       "    </tr>\n",
       "  </tbody>\n",
       "</table>\n",
       "</div>"
      ],
      "text/plain": [
       "    antecedents  ... conviction\n",
       "14    (POSTAGE)  ...   1.000413\n",
       "115   (POSTAGE)  ...   1.000413\n",
       "439   (POSTAGE)  ...   1.000413\n",
       "505   (POSTAGE)  ...   1.004961\n",
       "193   (POSTAGE)  ...   1.009508\n",
       "\n",
       "[5 rows x 9 columns]"
      ]
     },
     "execution_count": 19,
     "metadata": {
      "tags": []
     },
     "output_type": "execute_result"
    }
   ],
   "source": [
    "frq_items_France =apriori(basket_encoded_France, min_support=0.05, use_colnames=True) \n",
    "rules = association_rules(frq_items_France, metric=\"lift\", min_threshold=1)\n",
    "rules=rules.sort_values(['confidence','lift'],ascending=['False','False'])\n",
    "rules.head()"
   ]
  },
  {
   "cell_type": "code",
   "execution_count": 0,
   "metadata": {
    "colab": {
     "base_uri": "https://localhost:8080/",
     "height": 513
    },
    "colab_type": "code",
    "id": "XaVzkKKod4O6",
    "outputId": "596ddf25-8385-4836-e222-b527fbbdcdac"
   },
   "outputs": [
    {
     "data": {
      "image/png": "[encoded data removed]",
      "text/plain": [
       "<Figure size 1008x576 with 2 Axes>"
      ]
     },
     "metadata": {
      "needs_background": "light",
      "tags": []
     },
     "output_type": "display_data"
    }
   ],
   "source": [
    "import matplotlib.pyplot as plt \n",
    "plt.figure(figsize=(14, 8))\n",
    "plt.scatter(rules['support'], rules['confidence'], c=rules['lift'], alpha=0.9, cmap='YlOrRd');\n",
    "plt.title('Rules distribution color mapped by lift');\n",
    "plt.xlabel('Support')\n",
    "plt.ylabel('Confidence')\n",
    "plt.colorbar();"
   ]
  },
  {
   "cell_type": "code",
   "execution_count": 0,
   "metadata": {
    "colab": {
     "base_uri": "https://localhost:8080/",
     "height": 306
    },
    "colab_type": "code",
    "id": "-LgcNx35aZfw",
    "outputId": "bad03395-9e37-459a-ba77-6dfab01acbc5"
   },
   "outputs": [
    {
     "data": {
      "text/html": [
       "<div>\n",
       "<style scoped>\n",
       "    .dataframe tbody tr th:only-of-type {\n",
       "        vertical-align: middle;\n",
       "    }\n",
       "\n",
       "    .dataframe tbody tr th {\n",
       "        vertical-align: top;\n",
       "    }\n",
       "\n",
       "    .dataframe thead th {\n",
       "        text-align: right;\n",
       "    }\n",
       "</style>\n",
       "<table border=\"1\" class=\"dataframe\">\n",
       "  <thead>\n",
       "    <tr style=\"text-align: right;\">\n",
       "      <th></th>\n",
       "      <th>antecedents</th>\n",
       "      <th>consequents</th>\n",
       "      <th>antecedent support</th>\n",
       "      <th>consequent support</th>\n",
       "      <th>support</th>\n",
       "      <th>confidence</th>\n",
       "      <th>lift</th>\n",
       "      <th>leverage</th>\n",
       "      <th>conviction</th>\n",
       "    </tr>\n",
       "  </thead>\n",
       "  <tbody>\n",
       "    <tr>\n",
       "      <th>14</th>\n",
       "      <td>(POSTAGE)</td>\n",
       "      <td>(BLUE 3 PIECE MINI DOTS CUTLERY SET)</td>\n",
       "      <td>0.745763</td>\n",
       "      <td>0.067797</td>\n",
       "      <td>0.050847</td>\n",
       "      <td>0.068182</td>\n",
       "      <td>1.005682</td>\n",
       "      <td>0.000287</td>\n",
       "      <td>1.000413</td>\n",
       "    </tr>\n",
       "    <tr>\n",
       "      <th>115</th>\n",
       "      <td>(POSTAGE)</td>\n",
       "      <td>(PACK OF 60 PINK PAISLEY CAKE CASES)</td>\n",
       "      <td>0.745763</td>\n",
       "      <td>0.067797</td>\n",
       "      <td>0.050847</td>\n",
       "      <td>0.068182</td>\n",
       "      <td>1.005682</td>\n",
       "      <td>0.000287</td>\n",
       "      <td>1.000413</td>\n",
       "    </tr>\n",
       "    <tr>\n",
       "      <th>439</th>\n",
       "      <td>(POSTAGE)</td>\n",
       "      <td>(PLASTERS IN TIN CIRCUS PARADE, RED TOADSTOOL ...</td>\n",
       "      <td>0.745763</td>\n",
       "      <td>0.067797</td>\n",
       "      <td>0.050847</td>\n",
       "      <td>0.068182</td>\n",
       "      <td>1.005682</td>\n",
       "      <td>0.000287</td>\n",
       "      <td>1.000413</td>\n",
       "    </tr>\n",
       "    <tr>\n",
       "      <th>505</th>\n",
       "      <td>(POSTAGE)</td>\n",
       "      <td>(STRAWBERRY LUNCH BOX WITH CUTLERY, RED TOADST...</td>\n",
       "      <td>0.745763</td>\n",
       "      <td>0.063559</td>\n",
       "      <td>0.050847</td>\n",
       "      <td>0.068182</td>\n",
       "      <td>1.072727</td>\n",
       "      <td>0.003447</td>\n",
       "      <td>1.004961</td>\n",
       "    </tr>\n",
       "    <tr>\n",
       "      <th>193</th>\n",
       "      <td>(POSTAGE)</td>\n",
       "      <td>(STARS GIFT TAPE)</td>\n",
       "      <td>0.745763</td>\n",
       "      <td>0.059322</td>\n",
       "      <td>0.050847</td>\n",
       "      <td>0.068182</td>\n",
       "      <td>1.149351</td>\n",
       "      <td>0.006607</td>\n",
       "      <td>1.009508</td>\n",
       "    </tr>\n",
       "  </tbody>\n",
       "</table>\n",
       "</div>"
      ],
      "text/plain": [
       "    antecedents  ... conviction\n",
       "14    (POSTAGE)  ...   1.000413\n",
       "115   (POSTAGE)  ...   1.000413\n",
       "439   (POSTAGE)  ...   1.000413\n",
       "505   (POSTAGE)  ...   1.004961\n",
       "193   (POSTAGE)  ...   1.009508\n",
       "\n",
       "[5 rows x 9 columns]"
      ]
     },
     "execution_count": 21,
     "metadata": {
      "tags": []
     },
     "output_type": "execute_result"
    }
   ],
   "source": [
    "frq_items_Sweden =apriori(basket_encoded_Sweden, min_support=0.05, use_colnames=True) \n",
    "rules = association_rules(frq_items_France, metric=\"lift\", min_threshold=1)\n",
    "rules=rules.sort_values(['confidence','lift'],ascending=['False','False'])\n",
    "rules.head()"
   ]
  },
  {
   "cell_type": "code",
   "execution_count": 0,
   "metadata": {
    "colab": {
     "base_uri": "https://localhost:8080/",
     "height": 513
    },
    "colab_type": "code",
    "id": "Y3-UsC9rbF4Y",
    "outputId": "b2c12f37-aaea-459d-ddc7-84ffe090d382"
   },
   "outputs": [
    {
     "data": {
      "image/png": "[encoded data removed]",
      "text/plain": [
       "<Figure size 1008x576 with 2 Axes>"
      ]
     },
     "metadata": {
      "needs_background": "light",
      "tags": []
     },
     "output_type": "display_data"
    }
   ],
   "source": [
    "import matplotlib.pyplot as plt \n",
    "plt.figure(figsize=(14, 8))\n",
    "plt.scatter(rules['support'], rules['confidence'], c=rules['lift'], alpha=0.9, cmap='YlOrRd');\n",
    "plt.title('Rules distribution color mapped by lift');\n",
    "plt.xlabel('Support')\n",
    "plt.ylabel('Confidence')\n",
    "plt.colorbar();"
   ]
  },
  {
   "cell_type": "markdown",
   "metadata": {
    "colab_type": "text",
    "id": "QDrApDr2h74z"
   },
   "source": [
    "To be continued for other countries."
   ]
  }
 ],
 "metadata": {
  "colab": {
   "collapsed_sections": [],
   "name": "Market_basket_Analysis_ecommerce.ipynb",
   "provenance": []
  },
  "kernelspec": {
   "display_name": "Python 3",
   "language": "python",
   "name": "python3"
  },
  "language_info": {
   "codemirror_mode": {
    "name": "ipython",
    "version": 3
   },
   "file_extension": ".py",
   "mimetype": "text/x-python",
   "name": "python",
   "nbconvert_exporter": "python",
   "pygments_lexer": "ipython3",
   "version": "3.7.4"
  }
 },
 "nbformat": 4,
 "nbformat_minor": 1
}
